{
 "cells": [
  {
   "cell_type": "code",
   "execution_count": 2,
   "metadata": {},
   "outputs": [],
   "source": [
    "import cv2 as cv\n",
    "import os\n",
    "import numpy as np\n",
    "import pickle\n",
    "from time import time\n",
    "\n",
    "DS_DIRNAME = 'ds'\n",
    "DS_FINAL_DIRNAME = 'ds_final'\n",
    "\n",
    "TRAIN_DIRNAME = 'train'\n",
    "VAL_DIRNAME = 'val'\n",
    "\n",
    "FRAMES_DIRNAME = 'frames'\n",
    "LABELS_DIRNAME = 'obj_train_data'"
   ]
  },
  {
   "cell_type": "markdown",
   "metadata": {},
   "source": [
    "Cut frames from vid"
   ]
  },
  {
   "cell_type": "code",
   "execution_count": 37,
   "metadata": {},
   "outputs": [],
   "source": [
    "for dirname in os.listdir(DS_DIRNAME):\n",
    "    vid_path = f'{DS_DIRNAME}/{dirname}/{dirname}'\n",
    "    if not os.path.isfile(vid_path):\n",
    "        continue\n",
    "    \n",
    "    frames_path = f'{DS_DIRNAME}/{dirname}/{FRAMES_DIRNAME}'\n",
    "    os.makedirs(frames_path, exist_ok=True)\n",
    "\n",
    "    vid = cv.VideoCapture(vid_path)\n",
    "    ret, frame = vid.read()\n",
    "    frame_counter = 0\n",
    "    while vid.isOpened() and ret:\n",
    "        frame_jpg_name1 = f'{frames_path}/{frame_counter:06}.jpg'\n",
    "        frame_jpg_name2 = f'{frames_path}/{dirname}_{frame_counter:06}.jpg'\n",
    "        if not os.path.isfile(frame_jpg_name1) and not os.path.isfile(frame_jpg_name2):\n",
    "            cv.imwrite(frame_jpg_name1, frame)\n",
    "        \n",
    "        ret, frame = vid.read()\n",
    "        frame_counter += 1\n",
    "    vid.release()"
   ]
  },
  {
   "cell_type": "markdown",
   "metadata": {},
   "source": [
    "Check 15002 frames and labels"
   ]
  },
  {
   "cell_type": "code",
   "execution_count": 35,
   "metadata": {},
   "outputs": [
    {
     "data": {
      "text/plain": [
       "False"
      ]
     },
     "execution_count": 35,
     "metadata": {},
     "output_type": "execute_result"
    }
   ],
   "source": [
    "VID_LEN = 15002\n",
    "all_len = []\n",
    "for dirname in os.listdir(DS_DIRNAME):\n",
    "    vid_path = f'{DS_DIRNAME}/{dirname}/{dirname}'\n",
    "    if not os.path.isfile(vid_path):\n",
    "        continue\n",
    "    \n",
    "    frames_path = f'{DS_DIRNAME}/{dirname}/{FRAMES_DIRNAME}'\n",
    "    labels_path = f'{DS_DIRNAME}/{dirname}/{LABELS_DIRNAME}'\n",
    "    all_len.append(len(os.listdir(frames_path)) == VID_LEN)\n",
    "    all_len.append(len(os.listdir(labels_path)) == VID_LEN)\n",
    "all(all_len)\n"
   ]
  },
  {
   "cell_type": "markdown",
   "metadata": {},
   "source": [
    "Del '.*_' from labels and frames"
   ]
  },
  {
   "cell_type": "code",
   "execution_count": 28,
   "metadata": {},
   "outputs": [
    {
     "name": "stdout",
     "output_type": "stream",
     "text": [
      "614394-video.h264.mp4 - 15003\n",
      "614654-video.h264.mp4 - 15002\n",
      "617343-video.h264.mp4 - 15002\n",
      "617356-video.h264.mp4 - 15002\n",
      "617369-video.h264.mp4 - 15002\n",
      "617382-video.h264.mp4 - 15002\n",
      "617421-video.h264.mp4 - 15002\n",
      "617460-video.h264.mp4 - 15002\n",
      "617473-video.h264.mp4 - 15002\n",
      "617486-video.h264.mp4 - 15002\n",
      "617499-video.h264.mp4 - 15002\n",
      "617512-video.h264.mp4 - 15002\n"
     ]
    }
   ],
   "source": [
    "for dirname in os.listdir(DS_DIRNAME):\n",
    "    counter = 0\n",
    "    vid_path = f'{DS_DIRNAME}/{dirname}/{dirname}'\n",
    "    if not os.path.isfile(vid_path):\n",
    "        continue\n",
    "\n",
    "    labels_path = f'{DS_DIRNAME}/{dirname}/{LABELS_DIRNAME}'\n",
    "    frames_path = f'{DS_DIRNAME}/{dirname}/{FRAMES_DIRNAME}'\n",
    "    for files_dir in [labels_path, frames_path]:\n",
    "        for name in os.listdir(files_dir):\n",
    "            if '_' in name:\n",
    "                counter += 1\n",
    "                new_name = name.split('_')[-1]\n",
    "                os.rename(f'{files_dir}/{name}', f'{files_dir}/{new_name}')\n",
    "    print(f'{dirname} - {counter}')"
   ]
  },
  {
   "cell_type": "markdown",
   "metadata": {},
   "source": [
    "Detect similar images"
   ]
  },
  {
   "cell_type": "code",
   "execution_count": 26,
   "metadata": {},
   "outputs": [
    {
     "data": {
      "text/plain": [
       "303817"
      ]
     },
     "execution_count": 26,
     "metadata": {},
     "output_type": "execute_result"
    }
   ],
   "source": [
    "img1 = cv.imread(f'ds/1.mp4/frames/000000.jpg', cv.IMREAD_GRAYSCALE)\n",
    "img2 = cv.imread(f'ds/1.mp4/frames/000001.jpg', cv.IMREAD_GRAYSCALE)\n",
    "np.sum(cv.absdiff(img1, img2))"
   ]
  },
  {
   "cell_type": "code",
   "execution_count": 4,
   "metadata": {},
   "outputs": [],
   "source": [
    "with open('to_skip.p', 'rb') as f:\n",
    "    to_skip_p = pickle.load(f)"
   ]
  },
  {
   "cell_type": "code",
   "execution_count": 5,
   "metadata": {},
   "outputs": [
    {
     "data": {
      "text/plain": [
       "102214"
      ]
     },
     "execution_count": 5,
     "metadata": {},
     "output_type": "execute_result"
    }
   ],
   "source": [
    "len(to_skip_p)"
   ]
  },
  {
   "cell_type": "code",
   "execution_count": 22,
   "metadata": {},
   "outputs": [
    {
     "name": "stdout",
     "output_type": "stream",
     "text": [
      "614394-video.h264.mp4 - 657s - 13359 to skip\n",
      "614654-video.h264.mp4 - 1352s - 13192 to skip\n",
      "617343-video.h264.mp4 - 1997s - 12659 to skip\n",
      "617356-video.h264.mp4 - 2645s - 13667 to skip\n",
      "617369-video.h264.mp4 - 3204s - 12448 to skip\n",
      "617382-video.h264.mp4 - 3780s - 12554 to skip\n",
      "617421-video.h264.mp4 - 4352s - 11261 to skip\n",
      "617460-video.h264.mp4 - 4928s - 11753 to skip\n",
      "617473-video.h264.mp4 - 5567s - 12703 to skip\n",
      "617486-video.h264.mp4 - 6230s - 13432 to skip\n",
      "617499-video.h264.mp4 - 6849s - 13392 to skip\n",
      "617512-video.h264.mp4 - 7365s - 11720 to skip\n"
     ]
    }
   ],
   "source": [
    "DUPLICATES_MAX_DIFF = 1e7\n",
    "FRAMES_STEP = 250\n",
    "to_skip = set()\n",
    "timer = time()\n",
    "to_skip_prev = len(to_skip)\n",
    "for dirname in os.listdir(DS_DIRNAME):\n",
    "    vid_path = f'{DS_DIRNAME}/{dirname}/{dirname}'\n",
    "    if not os.path.isfile(vid_path):\n",
    "        continue\n",
    "\n",
    "    frames_path = f'{DS_DIRNAME}/{dirname}/{FRAMES_DIRNAME}'\n",
    "    frames = sorted(os.listdir(frames_path))\n",
    "    for i in range(len(frames) // FRAMES_STEP + 1):\n",
    "        ref_frame = frames[i*FRAMES_STEP]\n",
    "        similar_to_ref = set()\n",
    "        left_border = i*FRAMES_STEP + 1\n",
    "        right_border = min((i+1)*FRAMES_STEP, len(frames))\n",
    "        img1 = cv.imread(f'{frames_path}/{ref_frame}', cv.IMREAD_GRAYSCALE)\n",
    "        for j in range(left_border, right_border):\n",
    "            img2 = cv.imread(f'{frames_path}/{frames[j]}', cv.IMREAD_GRAYSCALE)\n",
    "            if np.sum(cv.absdiff(img1, img2)) <= DUPLICATES_MAX_DIFF:\n",
    "                similar_to_ref.add(f'{frames_path}/{frames[j]}')\n",
    "        to_skip.update(similar_to_ref)\n",
    "\n",
    "    print(f'{dirname} - {int(time() - timer)}s - {len(to_skip) - to_skip_prev} to skip')\n",
    "    to_skip_prev = len(to_skip)"
   ]
  },
  {
   "cell_type": "code",
   "execution_count": 25,
   "metadata": {},
   "outputs": [
    {
     "data": {
      "text/plain": [
       "152140"
      ]
     },
     "execution_count": 25,
     "metadata": {},
     "output_type": "execute_result"
    }
   ],
   "source": [
    "len(to_skip)"
   ]
  },
  {
   "cell_type": "code",
   "execution_count": 26,
   "metadata": {},
   "outputs": [],
   "source": [
    "with open('to_skip.p', 'wb') as f:\n",
    "    pickle.dump(to_skip, f)"
   ]
  },
  {
   "cell_type": "markdown",
   "metadata": {},
   "source": [
    "Name labels and frames for extraction into final ds"
   ]
  },
  {
   "cell_type": "code",
   "execution_count": 29,
   "metadata": {},
   "outputs": [
    {
     "name": "stdout",
     "output_type": "stream",
     "text": [
      "614394-video.h264.mp4 - 1643 frames\n",
      "614654-video.h264.mp4 - 1810 frames\n",
      "617343-video.h264.mp4 - 2343 frames\n",
      "617356-video.h264.mp4 - 1335 frames\n",
      "617369-video.h264.mp4 - 2554 frames\n",
      "617382-video.h264.mp4 - 2448 frames\n",
      "617421-video.h264.mp4 - 3741 frames\n",
      "617460-video.h264.mp4 - 3249 frames\n",
      "617473-video.h264.mp4 - 2299 frames\n",
      "617486-video.h264.mp4 - 1570 frames\n",
      "617499-video.h264.mp4 - 1610 frames\n",
      "617512-video.h264.mp4 - 3282 frames\n"
     ]
    }
   ],
   "source": [
    "for dirname in os.listdir(DS_DIRNAME):\n",
    "    vid_path = f'{DS_DIRNAME}/{dirname}/{dirname}'\n",
    "    if not os.path.isfile(vid_path):\n",
    "        continue\n",
    "\n",
    "    labels_path = f'{DS_DIRNAME}/{dirname}/{LABELS_DIRNAME}'\n",
    "    frames_path = f'{DS_DIRNAME}/{dirname}/{FRAMES_DIRNAME}'\n",
    "    counter = 0\n",
    "    for frame in os.listdir(frames_path):\n",
    "        frame_full_name = f'{frames_path}/{frame}'\n",
    "        if frame_full_name not in to_skip and '_' not in frame:\n",
    "            frame_new_name = f'{dirname}_{frame}'\n",
    "            label = frame.split('.')[0] + '.txt'\n",
    "            label_new_name = f'{dirname}_{label}'\n",
    "            os.rename(f'{frames_path}/{frame}', f'{frames_path}/{frame_new_name}')\n",
    "            os.rename(f'{labels_path}/{label}', f'{labels_path}/{label_new_name}')\n",
    "            counter += 1\n",
    "            \n",
    "    print(f'{dirname} - {counter} frames')"
   ]
  },
  {
   "cell_type": "markdown",
   "metadata": {},
   "source": [
    "Move frames and labels into train and val in a ratio"
   ]
  },
  {
   "cell_type": "code",
   "execution_count": 37,
   "metadata": {},
   "outputs": [
    {
     "name": "stdout",
     "output_type": "stream",
     "text": [
      "614394-video.h264.mp4 - 1643 - train\n",
      "614654-video.h264.mp4 - 1810 - train\n",
      "617343-video.h264.mp4 - 2343 - train\n",
      "617356-video.h264.mp4 - 1335 - train\n",
      "617369-video.h264.mp4 - 2554 - train\n",
      "617382-video.h264.mp4 - 2448 - train\n",
      "617421-video.h264.mp4 - 3741 - train\n",
      "617460-video.h264.mp4 - 3249 - train\n",
      "617473-video.h264.mp4 - 2299 - train\n",
      "617486-video.h264.mp4 - 1570 - val\n",
      "617499-video.h264.mp4 - 1610 - val\n",
      "617512-video.h264.mp4 - 3282 - val\n"
     ]
    }
   ],
   "source": [
    "RATIO = 0.8\n",
    "VID_LEN = 15002\n",
    "frames_amount = 12*VID_LEN - len(to_skip)\n",
    "counter = 0\n",
    "counter_prev = 0\n",
    "train_frames_path = f'{DS_FINAL_DIRNAME}/{TRAIN_DIRNAME}/{FRAMES_DIRNAME}'\n",
    "train_labels_path = f'{DS_FINAL_DIRNAME}/{TRAIN_DIRNAME}/{LABELS_DIRNAME}'\n",
    "val_frames_path = f'{DS_FINAL_DIRNAME}/{VAL_DIRNAME}/{FRAMES_DIRNAME}'\n",
    "val_labels_path = f'{DS_FINAL_DIRNAME}/{VAL_DIRNAME}/{LABELS_DIRNAME}'\n",
    "for dirname in [train_frames_path, train_labels_path, val_frames_path, val_labels_path]:\n",
    "    os.makedirs(dirname, exist_ok=True)\n",
    "for dirname in os.listdir(DS_DIRNAME):\n",
    "    vid_path = f'{DS_DIRNAME}/{dirname}/{dirname}'\n",
    "    if not os.path.isfile(vid_path):\n",
    "        continue\n",
    "\n",
    "    labels_path = f'{DS_DIRNAME}/{dirname}/{LABELS_DIRNAME}'\n",
    "    frames_path = f'{DS_DIRNAME}/{dirname}/{FRAMES_DIRNAME}'\n",
    "    for frame_name in os.listdir(frames_path):\n",
    "        if frame_name.startswith(dirname):\n",
    "            label_name = frame_name[:-4] + '.txt'\n",
    "            if counter <= frames_amount * RATIO:\n",
    "                os.rename(\n",
    "                    f'{frames_path}/{frame_name}',\n",
    "                    f'{train_frames_path}/{frame_name}'\n",
    "                )\n",
    "                os.rename(\n",
    "                    f'{labels_path}/{label_name}',\n",
    "                    f'{train_labels_path}/{label_name}'\n",
    "                )\n",
    "            else:\n",
    "                os.rename(\n",
    "                    f'{frames_path}/{frame_name}',\n",
    "                    f'{val_frames_path}/{frame_name}'\n",
    "                )\n",
    "                os.rename(\n",
    "                    f'{labels_path}/{label_name}',\n",
    "                    f'{val_labels_path}/{label_name}'\n",
    "                )\n",
    "            counter += 1\n",
    "\n",
    "    train_or_val = 'train' if counter <= frames_amount * RATIO else 'val'\n",
    "    print(f'{dirname} - {counter - counter_prev} - {train_or_val}')\n",
    "    counter_prev = counter\n"
   ]
  },
  {
   "cell_type": "markdown",
   "metadata": {},
   "source": [
    "Move back from ds_final"
   ]
  },
  {
   "cell_type": "code",
   "execution_count": 36,
   "metadata": {},
   "outputs": [
    {
     "name": "stdout",
     "output_type": "stream",
     "text": [
      "train\n",
      "val\n"
     ]
    }
   ],
   "source": [
    "for dirname in [TRAIN_DIRNAME, VAL_DIRNAME]:\n",
    "    print(dirname)\n",
    "    frames_path = f'{DS_FINAL_DIRNAME}/{dirname}/{FRAMES_DIRNAME}'\n",
    "    labels_path = f'{DS_FINAL_DIRNAME}/{dirname}/{LABELS_DIRNAME}'\n",
    "    for frame_name in os.listdir(frames_path):\n",
    "        vid_name = frame_name.split('_')[0]\n",
    "        new_frames_path = f'{DS_DIRNAME}/{vid_name}/{FRAMES_DIRNAME}'\n",
    "        os.rename(f'{frames_path}/{frame_name}', f'{new_frames_path}/{frame_name}')\n",
    "    for label_name in os.listdir(labels_path):\n",
    "        vid_name = label_name.split('_')[0]\n",
    "        new_labels_path = f'{DS_DIRNAME}/{vid_name}/{LABELS_DIRNAME}'\n",
    "        os.rename(f'{labels_path}/{label_name}', f'{new_labels_path}/{label_name}')"
   ]
  }
 ],
 "metadata": {
  "kernelspec": {
   "display_name": "Python 3.10.2 64-bit",
   "language": "python",
   "name": "python3"
  },
  "language_info": {
   "codemirror_mode": {
    "name": "ipython",
    "version": 3
   },
   "file_extension": ".py",
   "mimetype": "text/x-python",
   "name": "python",
   "nbconvert_exporter": "python",
   "pygments_lexer": "ipython3",
   "version": "3.10.2"
  },
  "orig_nbformat": 4,
  "vscode": {
   "interpreter": {
    "hash": "1686d3309bf03557030823584ef56ae40970f25b65730bd6efecbafdd375dad3"
   }
  }
 },
 "nbformat": 4,
 "nbformat_minor": 2
}
